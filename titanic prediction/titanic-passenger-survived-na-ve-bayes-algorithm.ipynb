{
 "cells": [
  {
   "cell_type": "code",
   "execution_count": 1,
   "metadata": {
    "execution": {
     "iopub.execute_input": "2021-08-15T08:39:38.027986Z",
     "iopub.status.busy": "2021-08-15T08:39:38.027569Z",
     "iopub.status.idle": "2021-08-15T08:39:38.039671Z",
     "shell.execute_reply": "2021-08-15T08:39:38.038740Z",
     "shell.execute_reply.started": "2021-08-15T08:39:38.027955Z"
    }
   },
   "outputs": [],
   "source": [
    "import pandas as pd\n",
    "import matplotlib.pyplot as plt\n",
    "import seaborn as sns\n",
    "import numpy as np\n",
    "import string\n",
    "from scipy import stats\n",
    "\n",
    "%matplotlib inline\n",
    "\n",
    "import warnings\n",
    "def ignore_warn(*args, **kwargs):\n",
    "    pass\n",
    "warnings.warn = ignore_warn #ignore annoying warning (from sklearn and seaborn)\n",
    "warnings.filterwarnings(\"ignore\", category=DeprecationWarning)"
   ]
  },
  {
   "cell_type": "code",
   "execution_count": 2,
   "metadata": {
    "execution": {
     "iopub.execute_input": "2021-08-15T08:39:38.044759Z",
     "iopub.status.busy": "2021-08-15T08:39:38.044218Z",
     "iopub.status.idle": "2021-08-15T08:39:38.077593Z",
     "shell.execute_reply": "2021-08-15T08:39:38.076788Z",
     "shell.execute_reply.started": "2021-08-15T08:39:38.044696Z"
    }
   },
   "outputs": [
    {
     "data": {
      "text/html": [
       "<div>\n",
       "<style scoped>\n",
       "    .dataframe tbody tr th:only-of-type {\n",
       "        vertical-align: middle;\n",
       "    }\n",
       "\n",
       "    .dataframe tbody tr th {\n",
       "        vertical-align: top;\n",
       "    }\n",
       "\n",
       "    .dataframe thead th {\n",
       "        text-align: right;\n",
       "    }\n",
       "</style>\n",
       "<table border=\"1\" class=\"dataframe\">\n",
       "  <thead>\n",
       "    <tr style=\"text-align: right;\">\n",
       "      <th></th>\n",
       "      <th>PassengerId</th>\n",
       "      <th>Survived</th>\n",
       "      <th>Pclass</th>\n",
       "      <th>Name</th>\n",
       "      <th>Sex</th>\n",
       "      <th>Age</th>\n",
       "      <th>SibSp</th>\n",
       "      <th>Parch</th>\n",
       "      <th>Ticket</th>\n",
       "      <th>Fare</th>\n",
       "      <th>Cabin</th>\n",
       "      <th>Embarked</th>\n",
       "    </tr>\n",
       "  </thead>\n",
       "  <tbody>\n",
       "    <tr>\n",
       "      <th>0</th>\n",
       "      <td>1</td>\n",
       "      <td>0</td>\n",
       "      <td>3</td>\n",
       "      <td>Braund, Mr. Owen Harris</td>\n",
       "      <td>male</td>\n",
       "      <td>22.0</td>\n",
       "      <td>1</td>\n",
       "      <td>0</td>\n",
       "      <td>A/5 21171</td>\n",
       "      <td>7.2500</td>\n",
       "      <td>NaN</td>\n",
       "      <td>S</td>\n",
       "    </tr>\n",
       "    <tr>\n",
       "      <th>1</th>\n",
       "      <td>2</td>\n",
       "      <td>1</td>\n",
       "      <td>1</td>\n",
       "      <td>Cumings, Mrs. John Bradley (Florence Briggs Th...</td>\n",
       "      <td>female</td>\n",
       "      <td>38.0</td>\n",
       "      <td>1</td>\n",
       "      <td>0</td>\n",
       "      <td>PC 17599</td>\n",
       "      <td>71.2833</td>\n",
       "      <td>C85</td>\n",
       "      <td>C</td>\n",
       "    </tr>\n",
       "    <tr>\n",
       "      <th>2</th>\n",
       "      <td>3</td>\n",
       "      <td>1</td>\n",
       "      <td>3</td>\n",
       "      <td>Heikkinen, Miss. Laina</td>\n",
       "      <td>female</td>\n",
       "      <td>26.0</td>\n",
       "      <td>0</td>\n",
       "      <td>0</td>\n",
       "      <td>STON/O2. 3101282</td>\n",
       "      <td>7.9250</td>\n",
       "      <td>NaN</td>\n",
       "      <td>S</td>\n",
       "    </tr>\n",
       "    <tr>\n",
       "      <th>3</th>\n",
       "      <td>4</td>\n",
       "      <td>1</td>\n",
       "      <td>1</td>\n",
       "      <td>Futrelle, Mrs. Jacques Heath (Lily May Peel)</td>\n",
       "      <td>female</td>\n",
       "      <td>35.0</td>\n",
       "      <td>1</td>\n",
       "      <td>0</td>\n",
       "      <td>113803</td>\n",
       "      <td>53.1000</td>\n",
       "      <td>C123</td>\n",
       "      <td>S</td>\n",
       "    </tr>\n",
       "    <tr>\n",
       "      <th>4</th>\n",
       "      <td>5</td>\n",
       "      <td>0</td>\n",
       "      <td>3</td>\n",
       "      <td>Allen, Mr. William Henry</td>\n",
       "      <td>male</td>\n",
       "      <td>35.0</td>\n",
       "      <td>0</td>\n",
       "      <td>0</td>\n",
       "      <td>373450</td>\n",
       "      <td>8.0500</td>\n",
       "      <td>NaN</td>\n",
       "      <td>S</td>\n",
       "    </tr>\n",
       "  </tbody>\n",
       "</table>\n",
       "</div>"
      ],
      "text/plain": [
       "   PassengerId  Survived  Pclass  \\\n",
       "0            1         0       3   \n",
       "1            2         1       1   \n",
       "2            3         1       3   \n",
       "3            4         1       1   \n",
       "4            5         0       3   \n",
       "\n",
       "                                                Name     Sex   Age  SibSp  \\\n",
       "0                            Braund, Mr. Owen Harris    male  22.0      1   \n",
       "1  Cumings, Mrs. John Bradley (Florence Briggs Th...  female  38.0      1   \n",
       "2                             Heikkinen, Miss. Laina  female  26.0      0   \n",
       "3       Futrelle, Mrs. Jacques Heath (Lily May Peel)  female  35.0      1   \n",
       "4                           Allen, Mr. William Henry    male  35.0      0   \n",
       "\n",
       "   Parch            Ticket     Fare Cabin Embarked  \n",
       "0      0         A/5 21171   7.2500   NaN        S  \n",
       "1      0          PC 17599  71.2833   C85        C  \n",
       "2      0  STON/O2. 3101282   7.9250   NaN        S  \n",
       "3      0            113803  53.1000  C123        S  \n",
       "4      0            373450   8.0500   NaN        S  "
      ]
     },
     "execution_count": 2,
     "metadata": {},
     "output_type": "execute_result"
    }
   ],
   "source": [
    "train = pd.read_csv(\"train.csv\")\n",
    "train.head()"
   ]
  },
  {
   "cell_type": "code",
   "execution_count": 3,
   "metadata": {
    "execution": {
     "iopub.execute_input": "2021-08-15T08:39:38.079448Z",
     "iopub.status.busy": "2021-08-15T08:39:38.078985Z",
     "iopub.status.idle": "2021-08-15T08:39:38.103242Z",
     "shell.execute_reply": "2021-08-15T08:39:38.102516Z",
     "shell.execute_reply.started": "2021-08-15T08:39:38.079410Z"
    }
   },
   "outputs": [
    {
     "data": {
      "text/html": [
       "<div>\n",
       "<style scoped>\n",
       "    .dataframe tbody tr th:only-of-type {\n",
       "        vertical-align: middle;\n",
       "    }\n",
       "\n",
       "    .dataframe tbody tr th {\n",
       "        vertical-align: top;\n",
       "    }\n",
       "\n",
       "    .dataframe thead th {\n",
       "        text-align: right;\n",
       "    }\n",
       "</style>\n",
       "<table border=\"1\" class=\"dataframe\">\n",
       "  <thead>\n",
       "    <tr style=\"text-align: right;\">\n",
       "      <th></th>\n",
       "      <th>PassengerId</th>\n",
       "      <th>Pclass</th>\n",
       "      <th>Name</th>\n",
       "      <th>Sex</th>\n",
       "      <th>Age</th>\n",
       "      <th>SibSp</th>\n",
       "      <th>Parch</th>\n",
       "      <th>Ticket</th>\n",
       "      <th>Fare</th>\n",
       "      <th>Cabin</th>\n",
       "      <th>Embarked</th>\n",
       "    </tr>\n",
       "  </thead>\n",
       "  <tbody>\n",
       "    <tr>\n",
       "      <th>0</th>\n",
       "      <td>892</td>\n",
       "      <td>3</td>\n",
       "      <td>Kelly, Mr. James</td>\n",
       "      <td>male</td>\n",
       "      <td>34.5</td>\n",
       "      <td>0</td>\n",
       "      <td>0</td>\n",
       "      <td>330911</td>\n",
       "      <td>7.8292</td>\n",
       "      <td>NaN</td>\n",
       "      <td>Q</td>\n",
       "    </tr>\n",
       "    <tr>\n",
       "      <th>1</th>\n",
       "      <td>893</td>\n",
       "      <td>3</td>\n",
       "      <td>Wilkes, Mrs. James (Ellen Needs)</td>\n",
       "      <td>female</td>\n",
       "      <td>47.0</td>\n",
       "      <td>1</td>\n",
       "      <td>0</td>\n",
       "      <td>363272</td>\n",
       "      <td>7.0000</td>\n",
       "      <td>NaN</td>\n",
       "      <td>S</td>\n",
       "    </tr>\n",
       "    <tr>\n",
       "      <th>2</th>\n",
       "      <td>894</td>\n",
       "      <td>2</td>\n",
       "      <td>Myles, Mr. Thomas Francis</td>\n",
       "      <td>male</td>\n",
       "      <td>62.0</td>\n",
       "      <td>0</td>\n",
       "      <td>0</td>\n",
       "      <td>240276</td>\n",
       "      <td>9.6875</td>\n",
       "      <td>NaN</td>\n",
       "      <td>Q</td>\n",
       "    </tr>\n",
       "    <tr>\n",
       "      <th>3</th>\n",
       "      <td>895</td>\n",
       "      <td>3</td>\n",
       "      <td>Wirz, Mr. Albert</td>\n",
       "      <td>male</td>\n",
       "      <td>27.0</td>\n",
       "      <td>0</td>\n",
       "      <td>0</td>\n",
       "      <td>315154</td>\n",
       "      <td>8.6625</td>\n",
       "      <td>NaN</td>\n",
       "      <td>S</td>\n",
       "    </tr>\n",
       "    <tr>\n",
       "      <th>4</th>\n",
       "      <td>896</td>\n",
       "      <td>3</td>\n",
       "      <td>Hirvonen, Mrs. Alexander (Helga E Lindqvist)</td>\n",
       "      <td>female</td>\n",
       "      <td>22.0</td>\n",
       "      <td>1</td>\n",
       "      <td>1</td>\n",
       "      <td>3101298</td>\n",
       "      <td>12.2875</td>\n",
       "      <td>NaN</td>\n",
       "      <td>S</td>\n",
       "    </tr>\n",
       "  </tbody>\n",
       "</table>\n",
       "</div>"
      ],
      "text/plain": [
       "   PassengerId  Pclass                                          Name     Sex  \\\n",
       "0          892       3                              Kelly, Mr. James    male   \n",
       "1          893       3              Wilkes, Mrs. James (Ellen Needs)  female   \n",
       "2          894       2                     Myles, Mr. Thomas Francis    male   \n",
       "3          895       3                              Wirz, Mr. Albert    male   \n",
       "4          896       3  Hirvonen, Mrs. Alexander (Helga E Lindqvist)  female   \n",
       "\n",
       "    Age  SibSp  Parch   Ticket     Fare Cabin Embarked  \n",
       "0  34.5      0      0   330911   7.8292   NaN        Q  \n",
       "1  47.0      1      0   363272   7.0000   NaN        S  \n",
       "2  62.0      0      0   240276   9.6875   NaN        Q  \n",
       "3  27.0      0      0   315154   8.6625   NaN        S  \n",
       "4  22.0      1      1  3101298  12.2875   NaN        S  "
      ]
     },
     "execution_count": 3,
     "metadata": {},
     "output_type": "execute_result"
    }
   ],
   "source": [
    "test = pd.read_csv(\"test.csv\")\n",
    "test.head()"
   ]
  },
  {
   "cell_type": "code",
   "execution_count": 4,
   "metadata": {
    "execution": {
     "iopub.execute_input": "2021-08-15T08:39:38.105229Z",
     "iopub.status.busy": "2021-08-15T08:39:38.104771Z",
     "iopub.status.idle": "2021-08-15T08:39:38.112620Z",
     "shell.execute_reply": "2021-08-15T08:39:38.111499Z",
     "shell.execute_reply.started": "2021-08-15T08:39:38.105175Z"
    }
   },
   "outputs": [
    {
     "data": {
      "text/plain": [
       "array([3, 1, 2], dtype=int64)"
      ]
     },
     "execution_count": 4,
     "metadata": {},
     "output_type": "execute_result"
    }
   ],
   "source": [
    "train['Survived'].unique()\n",
    "train['Parch'].unique()\n",
    "train['Pclass'].unique()"
   ]
  },
  {
   "cell_type": "code",
   "execution_count": 5,
   "metadata": {
    "execution": {
     "iopub.execute_input": "2021-08-15T08:39:38.114625Z",
     "iopub.status.busy": "2021-08-15T08:39:38.114298Z",
     "iopub.status.idle": "2021-08-15T08:39:38.136181Z",
     "shell.execute_reply": "2021-08-15T08:39:38.135349Z",
     "shell.execute_reply.started": "2021-08-15T08:39:38.114595Z"
    },
    "scrolled": true
   },
   "outputs": [
    {
     "data": {
      "text/plain": [
       "Age         177\n",
       "Cabin       687\n",
       "Embarked      2\n",
       "dtype: int64"
      ]
     },
     "execution_count": 5,
     "metadata": {},
     "output_type": "execute_result"
    }
   ],
   "source": [
    "null_columns=train.columns[train.isnull().any()]\n",
    "train[null_columns].isnull().sum()"
   ]
  },
  {
   "cell_type": "code",
   "execution_count": 6,
   "metadata": {
    "execution": {
     "iopub.execute_input": "2021-08-15T08:39:38.137787Z",
     "iopub.status.busy": "2021-08-15T08:39:38.137336Z",
     "iopub.status.idle": "2021-08-15T08:39:38.155447Z",
     "shell.execute_reply": "2021-08-15T08:39:38.154243Z",
     "shell.execute_reply.started": "2021-08-15T08:39:38.137755Z"
    }
   },
   "outputs": [
    {
     "data": {
      "text/plain": [
       "Age       86\n",
       "Fare       1\n",
       "Cabin    327\n",
       "dtype: int64"
      ]
     },
     "execution_count": 6,
     "metadata": {},
     "output_type": "execute_result"
    }
   ],
   "source": [
    "null_columns=test.columns[test.isnull().any()]\n",
    "test[null_columns].isnull().sum()"
   ]
  },
  {
   "cell_type": "code",
   "execution_count": 7,
   "metadata": {
    "execution": {
     "iopub.execute_input": "2021-08-15T08:39:38.157634Z",
     "iopub.status.busy": "2021-08-15T08:39:38.157222Z",
     "iopub.status.idle": "2021-08-15T08:39:38.167950Z",
     "shell.execute_reply": "2021-08-15T08:39:38.166677Z",
     "shell.execute_reply.started": "2021-08-15T08:39:38.157599Z"
    }
   },
   "outputs": [],
   "source": [
    "train_pid = train['PassengerId']"
   ]
  },
  {
   "cell_type": "code",
   "execution_count": 8,
   "metadata": {
    "execution": {
     "iopub.execute_input": "2021-08-15T08:39:38.170891Z",
     "iopub.status.busy": "2021-08-15T08:39:38.170502Z",
     "iopub.status.idle": "2021-08-15T08:39:38.181680Z",
     "shell.execute_reply": "2021-08-15T08:39:38.180343Z",
     "shell.execute_reply.started": "2021-08-15T08:39:38.170859Z"
    }
   },
   "outputs": [],
   "source": [
    "test_pid = test['PassengerId']"
   ]
  },
  {
   "cell_type": "code",
   "execution_count": 9,
   "metadata": {
    "execution": {
     "iopub.execute_input": "2021-08-15T08:39:38.184561Z",
     "iopub.status.busy": "2021-08-15T08:39:38.184001Z",
     "iopub.status.idle": "2021-08-15T08:39:38.197470Z",
     "shell.execute_reply": "2021-08-15T08:39:38.196140Z",
     "shell.execute_reply.started": "2021-08-15T08:39:38.184508Z"
    }
   },
   "outputs": [],
   "source": [
    "del train['PassengerId']\n",
    "del train['Cabin']"
   ]
  },
  {
   "cell_type": "code",
   "execution_count": 10,
   "metadata": {
    "execution": {
     "iopub.execute_input": "2021-08-15T08:39:38.200070Z",
     "iopub.status.busy": "2021-08-15T08:39:38.199315Z",
     "iopub.status.idle": "2021-08-15T08:39:38.210542Z",
     "shell.execute_reply": "2021-08-15T08:39:38.209202Z",
     "shell.execute_reply.started": "2021-08-15T08:39:38.199951Z"
    }
   },
   "outputs": [],
   "source": [
    "del test['PassengerId']\n",
    "del test['Cabin']"
   ]
  },
  {
   "cell_type": "code",
   "execution_count": 11,
   "metadata": {
    "execution": {
     "iopub.execute_input": "2021-08-15T08:39:38.212553Z",
     "iopub.status.busy": "2021-08-15T08:39:38.212151Z",
     "iopub.status.idle": "2021-08-15T08:39:38.234821Z",
     "shell.execute_reply": "2021-08-15T08:39:38.233542Z",
     "shell.execute_reply.started": "2021-08-15T08:39:38.212518Z"
    }
   },
   "outputs": [],
   "source": [
    "train['Age'][train['Sex']=='female'] = train['Age'][train['Sex']=='female'].fillna(train['Age'][train['Sex']=='female'].std())\n",
    "train['Age'][train['Sex']=='male'] = train['Age'][train['Sex']=='male'].fillna(train['Age'][train['Sex']=='male'].std())"
   ]
  },
  {
   "cell_type": "code",
   "execution_count": 12,
   "metadata": {
    "execution": {
     "iopub.execute_input": "2021-08-15T08:39:38.237171Z",
     "iopub.status.busy": "2021-08-15T08:39:38.236657Z",
     "iopub.status.idle": "2021-08-15T08:39:38.256002Z",
     "shell.execute_reply": "2021-08-15T08:39:38.254847Z",
     "shell.execute_reply.started": "2021-08-15T08:39:38.237121Z"
    }
   },
   "outputs": [],
   "source": [
    "test['Age'][test['Sex']=='female'] = test['Age'][test['Sex']=='female'].fillna(test['Age'][test['Sex']=='female'].std())\n",
    "test['Age'][test['Sex']=='male'] = test['Age'][test['Sex']=='male'].fillna(test['Age'][test['Sex']=='male'].std())"
   ]
  },
  {
   "cell_type": "code",
   "execution_count": 13,
   "metadata": {
    "execution": {
     "iopub.execute_input": "2021-08-15T08:39:38.258135Z",
     "iopub.status.busy": "2021-08-15T08:39:38.257689Z",
     "iopub.status.idle": "2021-08-15T08:39:38.274091Z",
     "shell.execute_reply": "2021-08-15T08:39:38.272821Z",
     "shell.execute_reply.started": "2021-08-15T08:39:38.258092Z"
    }
   },
   "outputs": [],
   "source": [
    "train.dropna(inplace = True)"
   ]
  },
  {
   "cell_type": "code",
   "execution_count": 14,
   "metadata": {
    "execution": {
     "iopub.execute_input": "2021-08-15T08:39:38.278298Z",
     "iopub.status.busy": "2021-08-15T08:39:38.277556Z",
     "iopub.status.idle": "2021-08-15T08:39:38.284743Z",
     "shell.execute_reply": "2021-08-15T08:39:38.283488Z",
     "shell.execute_reply.started": "2021-08-15T08:39:38.278247Z"
    }
   },
   "outputs": [],
   "source": [
    "test['Fare'] = test['Fare'].fillna(test['Fare'].std())"
   ]
  },
  {
   "cell_type": "code",
   "execution_count": 15,
   "metadata": {
    "execution": {
     "iopub.execute_input": "2021-08-15T08:39:38.287614Z",
     "iopub.status.busy": "2021-08-15T08:39:38.286872Z",
     "iopub.status.idle": "2021-08-15T08:39:38.303815Z",
     "shell.execute_reply": "2021-08-15T08:39:38.302873Z",
     "shell.execute_reply.started": "2021-08-15T08:39:38.287563Z"
    }
   },
   "outputs": [
    {
     "data": {
      "text/plain": [
       "Series([], dtype: float64)"
      ]
     },
     "execution_count": 15,
     "metadata": {},
     "output_type": "execute_result"
    }
   ],
   "source": [
    "null_columns=train.columns[train.isnull().any()]\n",
    "train[null_columns].isnull().sum()"
   ]
  },
  {
   "cell_type": "code",
   "execution_count": 16,
   "metadata": {
    "execution": {
     "iopub.execute_input": "2021-08-15T08:39:38.305739Z",
     "iopub.status.busy": "2021-08-15T08:39:38.305418Z",
     "iopub.status.idle": "2021-08-15T08:39:38.317932Z",
     "shell.execute_reply": "2021-08-15T08:39:38.316531Z",
     "shell.execute_reply.started": "2021-08-15T08:39:38.305708Z"
    }
   },
   "outputs": [
    {
     "data": {
      "text/plain": [
       "Series([], dtype: float64)"
      ]
     },
     "execution_count": 16,
     "metadata": {},
     "output_type": "execute_result"
    }
   ],
   "source": [
    "null_columns=test.columns[test.isnull().any()]\n",
    "test[null_columns].isnull().sum()"
   ]
  },
  {
   "cell_type": "code",
   "execution_count": 17,
   "metadata": {
    "execution": {
     "iopub.execute_input": "2021-08-15T08:39:38.320110Z",
     "iopub.status.busy": "2021-08-15T08:39:38.319697Z",
     "iopub.status.idle": "2021-08-15T08:39:38.333249Z",
     "shell.execute_reply": "2021-08-15T08:39:38.332356Z",
     "shell.execute_reply.started": "2021-08-15T08:39:38.320067Z"
    }
   },
   "outputs": [
    {
     "data": {
      "text/plain": [
       "0.7292945621145042"
      ]
     },
     "execution_count": 17,
     "metadata": {},
     "output_type": "execute_result"
    }
   ],
   "source": [
    "train['Age'].skew()"
   ]
  },
  {
   "cell_type": "code",
   "execution_count": 18,
   "metadata": {
    "execution": {
     "iopub.execute_input": "2021-08-15T08:39:38.335253Z",
     "iopub.status.busy": "2021-08-15T08:39:38.334759Z",
     "iopub.status.idle": "2021-08-15T08:39:38.345794Z",
     "shell.execute_reply": "2021-08-15T08:39:38.344178Z",
     "shell.execute_reply.started": "2021-08-15T08:39:38.335205Z"
    }
   },
   "outputs": [
    {
     "data": {
      "text/plain": [
       "0.7664491966830509"
      ]
     },
     "execution_count": 18,
     "metadata": {},
     "output_type": "execute_result"
    }
   ],
   "source": [
    "test['Age'].skew()"
   ]
  },
  {
   "cell_type": "code",
   "execution_count": 19,
   "metadata": {
    "execution": {
     "iopub.execute_input": "2021-08-15T08:39:38.347901Z",
     "iopub.status.busy": "2021-08-15T08:39:38.347441Z",
     "iopub.status.idle": "2021-08-15T08:39:38.877736Z",
     "shell.execute_reply": "2021-08-15T08:39:38.876440Z",
     "shell.execute_reply.started": "2021-08-15T08:39:38.347859Z"
    }
   },
   "outputs": [
    {
     "data": {
      "text/plain": [
       "<AxesSubplot:xlabel='Age', ylabel='Survived'>"
      ]
     },
     "execution_count": 19,
     "metadata": {},
     "output_type": "execute_result"
    },
    {
     "data": {
      "image/png": "[encoded data removed]",
      "text/plain": [
       "<Figure size 1080x288 with 2 Axes>"
      ]
     },
     "metadata": {
      "needs_background": "light"
     },
     "output_type": "display_data"
    }
   ],
   "source": [
    "plt.subplots(figsize =(15, 4))\n",
    "\n",
    "plt.subplot(1, 2, 1)\n",
    "train['Age'].hist()\n",
    "\n",
    "plt.subplot(1, 2, 2)\n",
    "sns.regplot(x= train['Age'] , y=train['Survived'] , fit_reg=True)"
   ]
  },
  {
   "cell_type": "code",
   "execution_count": 20,
   "metadata": {
    "execution": {
     "iopub.execute_input": "2021-08-15T08:39:38.879515Z",
     "iopub.status.busy": "2021-08-15T08:39:38.879084Z",
     "iopub.status.idle": "2021-08-15T08:39:38.888813Z",
     "shell.execute_reply": "2021-08-15T08:39:38.887242Z",
     "shell.execute_reply.started": "2021-08-15T08:39:38.879480Z"
    }
   },
   "outputs": [
    {
     "data": {
      "text/plain": [
       "-0.16739267521055792"
      ]
     },
     "execution_count": 20,
     "metadata": {},
     "output_type": "execute_result"
    }
   ],
   "source": [
    "train['Age'] = np.sqrt(train['Age'])\n",
    "train['Age'].skew()"
   ]
  },
  {
   "cell_type": "code",
   "execution_count": 21,
   "metadata": {
    "execution": {
     "iopub.execute_input": "2021-08-15T08:39:38.890920Z",
     "iopub.status.busy": "2021-08-15T08:39:38.890492Z",
     "iopub.status.idle": "2021-08-15T08:39:38.902203Z",
     "shell.execute_reply": "2021-08-15T08:39:38.900715Z",
     "shell.execute_reply.started": "2021-08-15T08:39:38.890878Z"
    }
   },
   "outputs": [
    {
     "data": {
      "text/plain": [
       "-0.10680693841171424"
      ]
     },
     "execution_count": 21,
     "metadata": {},
     "output_type": "execute_result"
    }
   ],
   "source": [
    "test['Age'] = np.sqrt(test['Age'])\n",
    "test['Age'].skew()"
   ]
  },
  {
   "cell_type": "code",
   "execution_count": 22,
   "metadata": {
    "execution": {
     "iopub.execute_input": "2021-08-15T08:39:38.903994Z",
     "iopub.status.busy": "2021-08-15T08:39:38.903674Z",
     "iopub.status.idle": "2021-08-15T08:39:39.434455Z",
     "shell.execute_reply": "2021-08-15T08:39:39.433744Z",
     "shell.execute_reply.started": "2021-08-15T08:39:38.903967Z"
    }
   },
   "outputs": [
    {
     "data": {
      "text/plain": [
       "<AxesSubplot:xlabel='Age', ylabel='Survived'>"
      ]
     },
     "execution_count": 22,
     "metadata": {},
     "output_type": "execute_result"
    },
    {
     "data": {
      "image/png": "[encoded data removed]",
      "text/plain": [
       "<Figure size 1080x288 with 2 Axes>"
      ]
     },
     "metadata": {
      "needs_background": "light"
     },
     "output_type": "display_data"
    }
   ],
   "source": [
    "plt.subplots(figsize =(15, 4))\n",
    "\n",
    "plt.subplot(1, 2, 1)\n",
    "train['Age'].hist()\n",
    "\n",
    "plt.subplot(1, 2, 2)\n",
    "sns.regplot(x= train['Age'] , y=train['Survived'] , fit_reg=True)"
   ]
  },
  {
   "cell_type": "code",
   "execution_count": 23,
   "metadata": {
    "execution": {
     "iopub.execute_input": "2021-08-15T08:39:39.436080Z",
     "iopub.status.busy": "2021-08-15T08:39:39.435640Z",
     "iopub.status.idle": "2021-08-15T08:39:39.825201Z",
     "shell.execute_reply": "2021-08-15T08:39:39.824436Z",
     "shell.execute_reply.started": "2021-08-15T08:39:39.436051Z"
    }
   },
   "outputs": [
    {
     "data": {
      "image/png": "[encoded data removed]",
      "text/plain": [
       "<Figure size 1080x288 with 3 Axes>"
      ]
     },
     "metadata": {
      "needs_background": "light"
     },
     "output_type": "display_data"
    }
   ],
   "source": [
    "plt.subplots(figsize =(15, 4))\n",
    "\n",
    "plt.subplot(1, 3, 1)\n",
    "sns.boxplot(x=train['Age'])\n",
    "\n",
    "plt.subplot(1, 3, 2)\n",
    "sns.boxplot(x=\"Age\", y=\"Sex\", data=train);\n",
    "\n",
    "plt.subplot(1, 3, 3)\n",
    "sns.boxplot(x=\"Age\", y=\"Embarked\", data=train);\n"
   ]
  },
  {
   "cell_type": "code",
   "execution_count": 24,
   "metadata": {
    "execution": {
     "iopub.execute_input": "2021-08-15T08:39:39.826697Z",
     "iopub.status.busy": "2021-08-15T08:39:39.826311Z",
     "iopub.status.idle": "2021-08-15T08:39:39.833977Z",
     "shell.execute_reply": "2021-08-15T08:39:39.832676Z",
     "shell.execute_reply.started": "2021-08-15T08:39:39.826668Z"
    }
   },
   "outputs": [],
   "source": [
    "train['Family_Size']=train['SibSp']+train['Parch']\n",
    "del train['SibSp']\n",
    "del train['Parch']"
   ]
  },
  {
   "cell_type": "code",
   "execution_count": 25,
   "metadata": {
    "execution": {
     "iopub.execute_input": "2021-08-15T08:39:39.837849Z",
     "iopub.status.busy": "2021-08-15T08:39:39.837425Z",
     "iopub.status.idle": "2021-08-15T08:39:39.855037Z",
     "shell.execute_reply": "2021-08-15T08:39:39.853436Z",
     "shell.execute_reply.started": "2021-08-15T08:39:39.837803Z"
    }
   },
   "outputs": [],
   "source": [
    "test['Family_Size']=test['SibSp']+test['Parch']\n",
    "del test['SibSp']\n",
    "del test['Parch']"
   ]
  },
  {
   "cell_type": "code",
   "execution_count": 26,
   "metadata": {
    "execution": {
     "iopub.execute_input": "2021-08-15T08:39:39.857615Z",
     "iopub.status.busy": "2021-08-15T08:39:39.857090Z",
     "iopub.status.idle": "2021-08-15T08:39:39.865748Z",
     "shell.execute_reply": "2021-08-15T08:39:39.864395Z",
     "shell.execute_reply.started": "2021-08-15T08:39:39.857566Z"
    }
   },
   "outputs": [],
   "source": [
    "def substrings_in_string(big_string, substrings):\n",
    "    for substring in substrings:\n",
    "        if big_string.find(substring) != -1:\n",
    "            return substring\n",
    "    return np.nan"
   ]
  },
  {
   "cell_type": "code",
   "execution_count": 27,
   "metadata": {
    "execution": {
     "iopub.execute_input": "2021-08-15T08:39:39.867702Z",
     "iopub.status.busy": "2021-08-15T08:39:39.867378Z",
     "iopub.status.idle": "2021-08-15T08:39:39.909677Z",
     "shell.execute_reply": "2021-08-15T08:39:39.908439Z",
     "shell.execute_reply.started": "2021-08-15T08:39:39.867674Z"
    }
   },
   "outputs": [],
   "source": [
    "title_list=['Mrs', 'Mr', 'Master', 'Miss', 'Major', 'Rev',\n",
    "                    'Dr', 'Ms', 'Mlle','Col', 'Capt', 'Mme', 'Countess',\n",
    "                    'Don', 'Jonkheer']\n",
    "\n",
    "train['Title']=train['Name'].map(lambda x: substrings_in_string(x, title_list))\n",
    "test['Title']=test['Name'].map(lambda x: substrings_in_string(x, title_list))\n",
    " \n",
    "#replacing all titles with mr, mrs, miss, master\n",
    "def replace_titles(x):\n",
    "    title=x['Title']\n",
    "    if title in ['Don', 'Major', 'Capt', 'Jonkheer', 'Rev', 'Col']:\n",
    "        return 'Mr'\n",
    "    elif title in ['Countess', 'Mme']:\n",
    "        return 'Mrs'\n",
    "    elif title in ['Mlle', 'Ms']:\n",
    "        return 'Miss'\n",
    "    elif title =='Dr':\n",
    "        if x['Sex']=='Male':\n",
    "            return 'Mr'\n",
    "        else:\n",
    "            return 'Mrs'\n",
    "    else:\n",
    "        return title\n",
    "    \n",
    "train['Title']=train.apply(replace_titles, axis=1)\n",
    "del train['Name']\n",
    "\n",
    "test['Title']=test.apply(replace_titles, axis=1)\n",
    "del test['Name']"
   ]
  },
  {
   "cell_type": "code",
   "execution_count": 28,
   "metadata": {
    "execution": {
     "iopub.execute_input": "2021-08-15T08:39:39.915669Z",
     "iopub.status.busy": "2021-08-15T08:39:39.915241Z",
     "iopub.status.idle": "2021-08-15T08:39:39.938671Z",
     "shell.execute_reply": "2021-08-15T08:39:39.937347Z",
     "shell.execute_reply.started": "2021-08-15T08:39:39.915632Z"
    }
   },
   "outputs": [
    {
     "data": {
      "text/html": [
       "<div>\n",
       "<style scoped>\n",
       "    .dataframe tbody tr th:only-of-type {\n",
       "        vertical-align: middle;\n",
       "    }\n",
       "\n",
       "    .dataframe tbody tr th {\n",
       "        vertical-align: top;\n",
       "    }\n",
       "\n",
       "    .dataframe thead th {\n",
       "        text-align: right;\n",
       "    }\n",
       "</style>\n",
       "<table border=\"1\" class=\"dataframe\">\n",
       "  <thead>\n",
       "    <tr style=\"text-align: right;\">\n",
       "      <th></th>\n",
       "      <th>Survived</th>\n",
       "      <th>Pclass</th>\n",
       "      <th>Sex</th>\n",
       "      <th>Age</th>\n",
       "      <th>Ticket</th>\n",
       "      <th>Fare</th>\n",
       "      <th>Embarked</th>\n",
       "      <th>Family_Size</th>\n",
       "      <th>Title</th>\n",
       "    </tr>\n",
       "  </thead>\n",
       "  <tbody>\n",
       "    <tr>\n",
       "      <th>759</th>\n",
       "      <td>1</td>\n",
       "      <td>1</td>\n",
       "      <td>female</td>\n",
       "      <td>5.744563</td>\n",
       "      <td>110152</td>\n",
       "      <td>86.50</td>\n",
       "      <td>S</td>\n",
       "      <td>0</td>\n",
       "      <td>Mrs</td>\n",
       "    </tr>\n",
       "    <tr>\n",
       "      <th>257</th>\n",
       "      <td>1</td>\n",
       "      <td>1</td>\n",
       "      <td>female</td>\n",
       "      <td>5.477226</td>\n",
       "      <td>110152</td>\n",
       "      <td>86.50</td>\n",
       "      <td>S</td>\n",
       "      <td>0</td>\n",
       "      <td>Miss</td>\n",
       "    </tr>\n",
       "    <tr>\n",
       "      <th>504</th>\n",
       "      <td>1</td>\n",
       "      <td>1</td>\n",
       "      <td>female</td>\n",
       "      <td>4.000000</td>\n",
       "      <td>110152</td>\n",
       "      <td>86.50</td>\n",
       "      <td>S</td>\n",
       "      <td>0</td>\n",
       "      <td>Miss</td>\n",
       "    </tr>\n",
       "    <tr>\n",
       "      <th>585</th>\n",
       "      <td>1</td>\n",
       "      <td>1</td>\n",
       "      <td>female</td>\n",
       "      <td>4.242641</td>\n",
       "      <td>110413</td>\n",
       "      <td>79.65</td>\n",
       "      <td>S</td>\n",
       "      <td>2</td>\n",
       "      <td>Miss</td>\n",
       "    </tr>\n",
       "    <tr>\n",
       "      <th>558</th>\n",
       "      <td>1</td>\n",
       "      <td>1</td>\n",
       "      <td>female</td>\n",
       "      <td>6.244998</td>\n",
       "      <td>110413</td>\n",
       "      <td>79.65</td>\n",
       "      <td>S</td>\n",
       "      <td>2</td>\n",
       "      <td>Mrs</td>\n",
       "    </tr>\n",
       "  </tbody>\n",
       "</table>\n",
       "</div>"
      ],
      "text/plain": [
       "     Survived  Pclass     Sex       Age  Ticket   Fare Embarked  Family_Size  \\\n",
       "759         1       1  female  5.744563  110152  86.50        S            0   \n",
       "257         1       1  female  5.477226  110152  86.50        S            0   \n",
       "504         1       1  female  4.000000  110152  86.50        S            0   \n",
       "585         1       1  female  4.242641  110413  79.65        S            2   \n",
       "558         1       1  female  6.244998  110413  79.65        S            2   \n",
       "\n",
       "    Title  \n",
       "759   Mrs  \n",
       "257  Miss  \n",
       "504  Miss  \n",
       "585  Miss  \n",
       "558   Mrs  "
      ]
     },
     "execution_count": 28,
     "metadata": {},
     "output_type": "execute_result"
    }
   ],
   "source": [
    "train.sort_values(by='Ticket').head()"
   ]
  },
  {
   "cell_type": "code",
   "execution_count": 29,
   "metadata": {
    "execution": {
     "iopub.execute_input": "2021-08-15T08:39:39.941099Z",
     "iopub.status.busy": "2021-08-15T08:39:39.940634Z",
     "iopub.status.idle": "2021-08-15T08:39:39.957778Z",
     "shell.execute_reply": "2021-08-15T08:39:39.956543Z",
     "shell.execute_reply.started": "2021-08-15T08:39:39.941061Z"
    }
   },
   "outputs": [],
   "source": [
    "from sklearn.preprocessing import LabelEncoder\n",
    "label_sex = LabelEncoder()\n",
    "label_embark = LabelEncoder()\n",
    "label_title = LabelEncoder()\n",
    "\n",
    "\n",
    "train['Sex'] = label_sex.fit_transform(train['Sex'])\n",
    "train['Embarked'] = label_embark.fit_transform(train['Embarked'])\n",
    "train['Title'] = label_title.fit_transform(train['Title'])\n",
    "\n",
    "test['Sex'] = label_sex.fit_transform(test['Sex'])\n",
    "test['Embarked'] = label_embark.fit_transform(test['Embarked'])\n",
    "test['Title'] = label_title.fit_transform(test['Title'])\n"
   ]
  },
  {
   "cell_type": "code",
   "execution_count": 30,
   "metadata": {
    "execution": {
     "iopub.execute_input": "2021-08-15T08:39:39.960682Z",
     "iopub.status.busy": "2021-08-15T08:39:39.960159Z",
     "iopub.status.idle": "2021-08-15T08:39:40.667002Z",
     "shell.execute_reply": "2021-08-15T08:39:40.665754Z",
     "shell.execute_reply.started": "2021-08-15T08:39:39.960633Z"
    }
   },
   "outputs": [
    {
     "data": {
      "image/png": "[encoded data removed]",
      "text/plain": [
       "<Figure size 576x576 with 2 Axes>"
      ]
     },
     "metadata": {
      "needs_background": "light"
     },
     "output_type": "display_data"
    }
   ],
   "source": [
    "corr = train.corr()\n",
    "plt.subplots(figsize=(8, 8))\n",
    "cmap = sns.diverging_palette(150, 250, as_cmap=True)\n",
    "sns.heatmap(corr, cmap=\"RdYlBu\", square=True, linewidths=0, cbar_kws={\"shrink\": .5}, annot = True);"
   ]
  },
  {
   "cell_type": "code",
   "execution_count": 31,
   "metadata": {
    "execution": {
     "iopub.execute_input": "2021-08-15T08:39:40.668985Z",
     "iopub.status.busy": "2021-08-15T08:39:40.668618Z",
     "iopub.status.idle": "2021-08-15T08:39:40.675164Z",
     "shell.execute_reply": "2021-08-15T08:39:40.673780Z",
     "shell.execute_reply.started": "2021-08-15T08:39:40.668953Z"
    }
   },
   "outputs": [],
   "source": [
    "train['Fare'] = np.abs(stats.zscore(train['Fare']))"
   ]
  },
  {
   "cell_type": "code",
   "execution_count": 32,
   "metadata": {
    "execution": {
     "iopub.execute_input": "2021-08-15T08:39:40.677046Z",
     "iopub.status.busy": "2021-08-15T08:39:40.676644Z",
     "iopub.status.idle": "2021-08-15T08:39:40.694448Z",
     "shell.execute_reply": "2021-08-15T08:39:40.693063Z",
     "shell.execute_reply.started": "2021-08-15T08:39:40.677003Z"
    }
   },
   "outputs": [],
   "source": [
    "test['Fare'] = np.abs(stats.zscore(test['Fare']))"
   ]
  },
  {
   "cell_type": "code",
   "execution_count": 33,
   "metadata": {
    "execution": {
     "iopub.execute_input": "2021-08-15T08:39:40.696821Z",
     "iopub.status.busy": "2021-08-15T08:39:40.696448Z",
     "iopub.status.idle": "2021-08-15T08:39:40.711986Z",
     "shell.execute_reply": "2021-08-15T08:39:40.710451Z",
     "shell.execute_reply.started": "2021-08-15T08:39:40.696786Z"
    }
   },
   "outputs": [],
   "source": [
    "del train['Ticket']"
   ]
  },
  {
   "cell_type": "code",
   "execution_count": 34,
   "metadata": {
    "execution": {
     "iopub.execute_input": "2021-08-15T08:39:40.714364Z",
     "iopub.status.busy": "2021-08-15T08:39:40.713895Z",
     "iopub.status.idle": "2021-08-15T08:39:40.729564Z",
     "shell.execute_reply": "2021-08-15T08:39:40.728200Z",
     "shell.execute_reply.started": "2021-08-15T08:39:40.714312Z"
    }
   },
   "outputs": [],
   "source": [
    "del test['Ticket']"
   ]
  },
  {
   "cell_type": "code",
   "execution_count": 35,
   "metadata": {
    "execution": {
     "iopub.execute_input": "2021-08-15T08:39:40.731585Z",
     "iopub.status.busy": "2021-08-15T08:39:40.731208Z",
     "iopub.status.idle": "2021-08-15T08:39:40.746084Z",
     "shell.execute_reply": "2021-08-15T08:39:40.744817Z",
     "shell.execute_reply.started": "2021-08-15T08:39:40.731550Z"
    }
   },
   "outputs": [],
   "source": [
    "y_class = train['Survived']\n",
    "del train['Survived']"
   ]
  },
  {
   "cell_type": "code",
   "execution_count": 36,
   "metadata": {
    "execution": {
     "iopub.execute_input": "2021-08-15T08:39:40.748159Z",
     "iopub.status.busy": "2021-08-15T08:39:40.747585Z",
     "iopub.status.idle": "2021-08-15T08:39:40.771779Z",
     "shell.execute_reply": "2021-08-15T08:39:40.770527Z",
     "shell.execute_reply.started": "2021-08-15T08:39:40.748115Z"
    }
   },
   "outputs": [
    {
     "data": {
      "text/html": [
       "<div>\n",
       "<style scoped>\n",
       "    .dataframe tbody tr th:only-of-type {\n",
       "        vertical-align: middle;\n",
       "    }\n",
       "\n",
       "    .dataframe tbody tr th {\n",
       "        vertical-align: top;\n",
       "    }\n",
       "\n",
       "    .dataframe thead th {\n",
       "        text-align: right;\n",
       "    }\n",
       "</style>\n",
       "<table border=\"1\" class=\"dataframe\">\n",
       "  <thead>\n",
       "    <tr style=\"text-align: right;\">\n",
       "      <th></th>\n",
       "      <th>Pclass</th>\n",
       "      <th>Sex</th>\n",
       "      <th>Age</th>\n",
       "      <th>Fare</th>\n",
       "      <th>Embarked</th>\n",
       "      <th>Family_Size</th>\n",
       "      <th>Title</th>\n",
       "    </tr>\n",
       "  </thead>\n",
       "  <tbody>\n",
       "    <tr>\n",
       "      <th>0</th>\n",
       "      <td>3</td>\n",
       "      <td>1</td>\n",
       "      <td>4.690416</td>\n",
       "      <td>0.500240</td>\n",
       "      <td>2</td>\n",
       "      <td>1</td>\n",
       "      <td>2</td>\n",
       "    </tr>\n",
       "    <tr>\n",
       "      <th>1</th>\n",
       "      <td>1</td>\n",
       "      <td>0</td>\n",
       "      <td>6.164414</td>\n",
       "      <td>0.788947</td>\n",
       "      <td>0</td>\n",
       "      <td>1</td>\n",
       "      <td>3</td>\n",
       "    </tr>\n",
       "    <tr>\n",
       "      <th>2</th>\n",
       "      <td>3</td>\n",
       "      <td>0</td>\n",
       "      <td>5.099020</td>\n",
       "      <td>0.486650</td>\n",
       "      <td>2</td>\n",
       "      <td>0</td>\n",
       "      <td>1</td>\n",
       "    </tr>\n",
       "    <tr>\n",
       "      <th>3</th>\n",
       "      <td>1</td>\n",
       "      <td>0</td>\n",
       "      <td>5.916080</td>\n",
       "      <td>0.422861</td>\n",
       "      <td>2</td>\n",
       "      <td>1</td>\n",
       "      <td>3</td>\n",
       "    </tr>\n",
       "    <tr>\n",
       "      <th>4</th>\n",
       "      <td>3</td>\n",
       "      <td>1</td>\n",
       "      <td>5.916080</td>\n",
       "      <td>0.484133</td>\n",
       "      <td>2</td>\n",
       "      <td>0</td>\n",
       "      <td>2</td>\n",
       "    </tr>\n",
       "  </tbody>\n",
       "</table>\n",
       "</div>"
      ],
      "text/plain": [
       "   Pclass  Sex       Age      Fare  Embarked  Family_Size  Title\n",
       "0       3    1  4.690416  0.500240         2            1      2\n",
       "1       1    0  6.164414  0.788947         0            1      3\n",
       "2       3    0  5.099020  0.486650         2            0      1\n",
       "3       1    0  5.916080  0.422861         2            1      3\n",
       "4       3    1  5.916080  0.484133         2            0      2"
      ]
     },
     "execution_count": 36,
     "metadata": {},
     "output_type": "execute_result"
    }
   ],
   "source": [
    "train.head()"
   ]
  },
  {
   "cell_type": "code",
   "execution_count": 37,
   "metadata": {
    "execution": {
     "iopub.execute_input": "2021-08-15T08:39:40.773856Z",
     "iopub.status.busy": "2021-08-15T08:39:40.773187Z",
     "iopub.status.idle": "2021-08-15T08:39:40.782901Z",
     "shell.execute_reply": "2021-08-15T08:39:40.781816Z",
     "shell.execute_reply.started": "2021-08-15T08:39:40.773815Z"
    }
   },
   "outputs": [],
   "source": [
    "from sklearn.model_selection import train_test_split\n",
    "x_train,x_test,y_train,y_test = train_test_split(train,y_class,test_size=0.3 , random_state=101)"
   ]
  },
  {
   "cell_type": "code",
   "execution_count": 38,
   "metadata": {
    "execution": {
     "iopub.execute_input": "2021-08-15T08:39:40.785937Z",
     "iopub.status.busy": "2021-08-15T08:39:40.785056Z",
     "iopub.status.idle": "2021-08-15T08:39:40.801431Z",
     "shell.execute_reply": "2021-08-15T08:39:40.800130Z",
     "shell.execute_reply.started": "2021-08-15T08:39:40.785869Z"
    }
   },
   "outputs": [],
   "source": [
    "from sklearn.naive_bayes import GaussianNB # 1. choose model class\n",
    "model = GaussianNB()                       # 2. instantiate model\n",
    "model.fit(train, y_class)                  # 3. fit model to data\n",
    "y_model = model.predict(test)             # 4. predict on new data"
   ]
  },
  {
   "cell_type": "code",
   "execution_count": 39,
   "metadata": {
    "execution": {
     "iopub.execute_input": "2021-08-15T08:39:40.803430Z",
     "iopub.status.busy": "2021-08-15T08:39:40.802912Z",
     "iopub.status.idle": "2021-08-15T08:39:40.810592Z",
     "shell.execute_reply": "2021-08-15T08:39:40.809163Z",
     "shell.execute_reply.started": "2021-08-15T08:39:40.803386Z"
    }
   },
   "outputs": [],
   "source": [
    "from sklearn.metrics import accuracy_score\n",
    "#accuracy_score(y_test, y_model)"
   ]
  },
  {
   "cell_type": "code",
   "execution_count": 40,
   "metadata": {
    "execution": {
     "iopub.execute_input": "2021-08-15T08:39:40.812494Z",
     "iopub.status.busy": "2021-08-15T08:39:40.812045Z",
     "iopub.status.idle": "2021-08-15T08:39:40.827625Z",
     "shell.execute_reply": "2021-08-15T08:39:40.826673Z",
     "shell.execute_reply.started": "2021-08-15T08:39:40.812444Z"
    }
   },
   "outputs": [
    {
     "data": {
      "text/plain": [
       "array([0, 1, 0, 0, 1, 0, 1, 0, 1, 0], dtype=int64)"
      ]
     },
     "execution_count": 40,
     "metadata": {},
     "output_type": "execute_result"
    }
   ],
   "source": [
    "y_model[0:10]"
   ]
  },
  {
   "cell_type": "code",
   "execution_count": 41,
   "metadata": {
    "execution": {
     "iopub.execute_input": "2021-08-15T08:39:40.830265Z",
     "iopub.status.busy": "2021-08-15T08:39:40.829444Z",
     "iopub.status.idle": "2021-08-15T08:39:40.840809Z",
     "shell.execute_reply": "2021-08-15T08:39:40.839657Z",
     "shell.execute_reply.started": "2021-08-15T08:39:40.830213Z"
    }
   },
   "outputs": [],
   "source": [
    "#y_test.iloc[0:10]"
   ]
  },
  {
   "cell_type": "code",
   "execution_count": 43,
   "metadata": {
    "execution": {
     "iopub.execute_input": "2021-08-15T08:39:40.843967Z",
     "iopub.status.busy": "2021-08-15T08:39:40.843386Z",
     "iopub.status.idle": "2021-08-15T08:39:40.875934Z",
     "shell.execute_reply": "2021-08-15T08:39:40.874391Z",
     "shell.execute_reply.started": "2021-08-15T08:39:40.843913Z"
    }
   },
   "outputs": [
    {
     "data": {
      "text/html": [
       "<div>\n",
       "<style scoped>\n",
       "    .dataframe tbody tr th:only-of-type {\n",
       "        vertical-align: middle;\n",
       "    }\n",
       "\n",
       "    .dataframe tbody tr th {\n",
       "        vertical-align: top;\n",
       "    }\n",
       "\n",
       "    .dataframe thead th {\n",
       "        text-align: right;\n",
       "    }\n",
       "</style>\n",
       "<table border=\"1\" class=\"dataframe\">\n",
       "  <thead>\n",
       "    <tr style=\"text-align: right;\">\n",
       "      <th></th>\n",
       "      <th>Survived</th>\n",
       "    </tr>\n",
       "  </thead>\n",
       "  <tbody>\n",
       "    <tr>\n",
       "      <th>0</th>\n",
       "      <td>0</td>\n",
       "    </tr>\n",
       "    <tr>\n",
       "      <th>1</th>\n",
       "      <td>0</td>\n",
       "    </tr>\n",
       "    <tr>\n",
       "      <th>2</th>\n",
       "      <td>0</td>\n",
       "    </tr>\n",
       "    <tr>\n",
       "      <th>3</th>\n",
       "      <td>0</td>\n",
       "    </tr>\n",
       "    <tr>\n",
       "      <th>4</th>\n",
       "      <td>1</td>\n",
       "    </tr>\n",
       "  </tbody>\n",
       "</table>\n",
       "</div>"
      ],
      "text/plain": [
       "   Survived\n",
       "0         0\n",
       "1         0\n",
       "2         0\n",
       "3         0\n",
       "4         1"
      ]
     },
     "execution_count": 43,
     "metadata": {},
     "output_type": "execute_result"
    }
   ],
   "source": [
    "gender_sub = pd.read_csv(\"gender_submission.csv\" , usecols=['Survived'])\n",
    "gender_sub.head()"
   ]
  },
  {
   "cell_type": "code",
   "execution_count": null,
   "metadata": {
    "execution": {
     "iopub.execute_input": "2021-08-15T08:39:40.878325Z",
     "iopub.status.busy": "2021-08-15T08:39:40.877684Z",
     "iopub.status.idle": "2021-08-15T08:39:40.884176Z",
     "shell.execute_reply": "2021-08-15T08:39:40.882639Z",
     "shell.execute_reply.started": "2021-08-15T08:39:40.878112Z"
    }
   },
   "outputs": [],
   "source": [
    "#test_data = model.predict(test)"
   ]
  },
  {
   "cell_type": "code",
   "execution_count": 44,
   "metadata": {
    "execution": {
     "iopub.execute_input": "2021-08-15T08:39:40.886141Z",
     "iopub.status.busy": "2021-08-15T08:39:40.885750Z",
     "iopub.status.idle": "2021-08-15T08:39:40.900137Z",
     "shell.execute_reply": "2021-08-15T08:39:40.898724Z",
     "shell.execute_reply.started": "2021-08-15T08:39:40.886101Z"
    }
   },
   "outputs": [
    {
     "data": {
      "text/plain": [
       "0.9066985645933014"
      ]
     },
     "execution_count": 44,
     "metadata": {},
     "output_type": "execute_result"
    }
   ],
   "source": [
    "accuracy_score(gender_sub, y_model)"
   ]
  },
  {
   "cell_type": "code",
   "execution_count": 45,
   "metadata": {
    "execution": {
     "iopub.execute_input": "2021-08-15T08:39:40.901696Z",
     "iopub.status.busy": "2021-08-15T08:39:40.901396Z",
     "iopub.status.idle": "2021-08-15T08:39:40.915852Z",
     "shell.execute_reply": "2021-08-15T08:39:40.914449Z",
     "shell.execute_reply.started": "2021-08-15T08:39:40.901665Z"
    }
   },
   "outputs": [],
   "source": [
    "submission = pd.DataFrame({\n",
    "        \"PassengerId\": test_pid,\n",
    "        \"Survived\": y_model\n",
    "    })\n",
    "submission.to_csv('gender_sub.csv', index=False)"
   ]
  },
  {
   "cell_type": "code",
   "execution_count": null,
   "metadata": {},
   "outputs": [],
   "source": []
  }
 ],
 "metadata": {
  "kernelspec": {
   "display_name": "Python 3",
   "language": "python",
   "name": "python3"
  },
  "language_info": {
   "codemirror_mode": {
    "name": "ipython",
    "version": 3
   },
   "file_extension": ".py",
   "mimetype": "text/x-python",
   "name": "python",
   "nbconvert_exporter": "python",
   "pygments_lexer": "ipython3",
   "version": "3.8.8"
  }
 },
 "nbformat": 4,
 "nbformat_minor": 4
}
